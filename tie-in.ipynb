{
 "cells": [
  {
   "cell_type": "code",
   "execution_count": 74,
   "id": "2074d5a4",
   "metadata": {},
   "outputs": [],
   "source": [
    "import numpy as np\n",
    "import pandas as pd\n",
    "import matplotlib.pyplot as plt\n",
    "from dataclasses import dataclass\n",
    "from typing import List, Tuple\n",
    "from RF_EUR import zcb_price_generator\n",
    "\n",
    "# Notebook display prefs (optional)\n",
    "pd.set_option(\"display.float_format\", lambda x: f\"{x:,.6f}\")\n"
   ]
  },
  {
   "cell_type": "markdown",
   "id": "3d8a5da5",
   "metadata": {},
   "source": [
    "\n",
    "We define parameters and calculate our outcome for single tie-in path given active portfolio return and zcb prices"
   ]
  },
  {
   "cell_type": "code",
   "execution_count": 93,
   "id": "8bb98652",
   "metadata": {},
   "outputs": [],
   "source": [
    "@dataclass\n",
    "# Define parameters for the tie-in strategy\n",
    "class TieInConfig:\n",
    "    initial_wealth: float = 100.0\n",
    "    L_target: float = 1.25   \n",
    "    L_trigger: float = 1.30\n",
    "\n",
    "\n",
    "@dataclass\n",
    "# Zero coupon bond parameters\n",
    "class PathResult:\n",
    "    final_N: float\n",
    "    initial_N: float\n",
    "    # two different ways to measure accrual\n",
    "    accrual_abs: float\n",
    "    accrual_pct: float\n",
    "    history: pd.DataFrame\n",
    "\n",
    "\n",
    "# Simulate a single path of the tie-in strategy\n",
    "# Important to note cfg is not needed\n",
    "def simulate_tie_in_path(\n",
    "    active_returns: np.ndarray,       # has dimension (T) (monthly discrete returns of Active)\n",
    "    zcb_prices: np.ndarray,           # starts at 0 so has dimension (T+1) (rolling ZCB prices, including month 0 and maturity)\n",
    "    contributions: np.ndarray = None, # has dimension (T) (monthly contributions, if any) - VÆR OPMÆRKSOM PÅ INITIAL WEALTH ER 100 SÅ C0 ER 0.\n",
    "    cfg: TieInConfig | None = None,   # if we want to change parameters in TieInFonfig we can: simulate_tie_in_path(active, zcb, TieInConfig(L_target=1.20))\n",
    ") -> pd.DataFrame:\n",
    "    if cfg is None:\n",
    "        cfg = TieInConfig()\n",
    "    \n",
    "    T = len(active_returns)\n",
    "    assert len(zcb_prices) == T + 1, \"zcb_prices must have length T+1 (including month 0 and maturity).\"\n",
    "\n",
    "    if contributions is None:\n",
    "        contributions = np.zeros(T + 1, dtype=float)\n",
    "    contributions = np.asarray(contributions, dtype=float)\n",
    "    assert len(contributions) == T + 1, \"contributions must have length T+1 (including month 0).\"\n",
    "\n",
    "    W0 = cfg.initial_wealth + contributions[0]            # We can both set initial wealt and contributions\n",
    "    MV_R = W0 / cfg.L_target                              # start exactly at target funded ratio\n",
    "    MV_A = W0 - MV_R                                      # Rest in active\n",
    "    N = MV_R / zcb_prices[0]                              # initial face (units of the ZCB)\n",
    "\n",
    "    rows = []\n",
    "    rows.append({\n",
    "        \"month\": 0,\n",
    "        \"C\": contributions[0],\n",
    "        \"c_A\": 0.0, \n",
    "        \"c_R\": 0.0,\n",
    "        \"MV_A\": MV_A,\n",
    "        \"MV_R\": MV_R,\n",
    "        \"N\": N,\n",
    "        \"P\": zcb_prices[0],\n",
    "        \"W\": MV_A + MV_R,\n",
    "        \"L\": (MV_A + MV_R) / MV_R,\n",
    "        \"tie_in\": False,\n",
    "    })\n",
    "    \n",
    "    # Do the calculations month by month\n",
    "    for i in range(1, T+1):\n",
    "        # 1) Active evolves                                     - VI SKAL OGSÅ LIGE VÆRE OPMÆRKSOMME PÅ HVORDAN ACTIVE RETURNS ER GIVET I VALGT STRATEGI\n",
    "        MV_A = MV_A * (1.0 + active_returns[i-1])              #- HVIS ACTIVE RETURNS ER AGGREGEREDE SKAL DET VÆRE SÅDAN, ELLERS SKAL ÆNDRES\n",
    "        # 2) Reserve repriced from rolling ZCB\n",
    "        P_i = zcb_prices[i]\n",
    "        MV_R = N * P_i\n",
    "        # Total wealth\n",
    "        W = MV_A + MV_R\n",
    "        # 3) Add contribution at the start of the month         - TJEK LIGE OP PÅ OM MAN TROR DET ER CONTRIBUTIONS FØRST ELLER EFTER AFKAST\n",
    "        C = contributions[i]\n",
    "        c_R = C * MV_R / (W)\n",
    "        c_A = C * MV_A / (W)\n",
    "        # 4) Update active and reserve with contributions\n",
    "        MV_R += c_R\n",
    "        MV_A += c_A\n",
    "        # 5) Compute funded ratio\n",
    "        L = W / MV_R\n",
    "\n",
    "        # We set tie in to false by default, but tie in if we are above our trigger\n",
    "        tie_in = False\n",
    "        if L > cfg.L_trigger:\n",
    "            # Reset to target: W = L_target * N_new * P_i\n",
    "            N_new = W / (cfg.L_target * P_i)       # new face (units of the ZCB)\n",
    "            # new reserve and active\n",
    "            MV_R = N_new * P_i\n",
    "            MV_A = W - MV_R\n",
    "            N = N_new\n",
    "            tie_in = True\n",
    "\n",
    "        rows.append(dict(month=i, MV_A=MV_A, MV_R=MV_R, c_A = c_A, c_R = c_R, N=N, P=P_i, W=MV_A+MV_R, L=(MV_A+MV_R)/MV_R, tie_in=tie_in))\n",
    "\n",
    "    history = pd.DataFrame(rows, columns=['month','MV_A','MV_R', \"c_A\", \"c_R\",'N','P','W','L','tie_in'])\n",
    "    return history\n"
   ]
  },
  {
   "cell_type": "markdown",
   "id": "7fa11ba3",
   "metadata": {},
   "source": [
    "\n",
    "## Random active portfolio and using Jakob's ZCB data:\n"
   ]
  },
  {
   "cell_type": "code",
   "execution_count": 95,
   "id": "b8a9aecc",
   "metadata": {},
   "outputs": [
    {
     "name": "stdout",
     "output_type": "stream",
     "text": [
      "     month      MV_A       MV_R      c_A      c_R          N        P  \\\n",
      "0        0 20.002000  80.008000 0.000000 0.000000 128.987022 0.620279   \n",
      "1        1 23.505689  79.267485 0.002287 0.007713 128.987022 0.614479   \n",
      "2        2 22.553726  78.990181 0.002221 0.007779 128.987022 0.612328   \n",
      "3        3 22.765278  80.331184 0.002208 0.007792 128.987022 0.622725   \n",
      "4        4 20.606259  82.425037 0.002313 0.007687 134.236506 0.614028   \n",
      "..     ...       ...        ...      ...      ...        ...      ...   \n",
      "116    116 26.485884 133.070180 0.001660 0.008340 134.236506 0.991249   \n",
      "117    117 26.705385 133.388682 0.001668 0.008332 134.236506 0.993622   \n",
      "118    118 25.721386 133.689879 0.001614 0.008386 134.236506 0.995865   \n",
      "119    119 24.210228 134.013974 0.001530 0.008470 134.236506 0.998279   \n",
      "120    120 28.588170 134.244750 0.001756 0.008244 134.236506 1.000000   \n",
      "\n",
      "             W        L  tie_in  \n",
      "0   100.010000 1.250000   False  \n",
      "1   102.773174 1.296536   False  \n",
      "2   101.543907 1.285526   False  \n",
      "3   103.096462 1.283393   False  \n",
      "4   103.031297 1.250000    True  \n",
      "..         ...      ...     ...  \n",
      "116 159.556064 1.199037   False  \n",
      "117 160.094067 1.200207   False  \n",
      "118 159.411266 1.192396   False  \n",
      "119 158.224202 1.180655   False  \n",
      "120 162.832920 1.212956   False  \n",
      "\n",
      "[121 rows x 10 columns]\n"
     ]
    }
   ],
   "source": [
    "# --- Synthetic data for a 10-year\n",
    "np.random.seed(7)\n",
    "T = 120\n",
    "\n",
    "# Contributions - VIRKER IKKE LIGE NU\n",
    "contributions = np.full(T + 1, 0.01)\n",
    "\n",
    "# Random active returns\n",
    "mu, sigma = 0.006, 0.1\n",
    "active_returns = np.random.normal(mu, sigma, size= T)\n",
    "\n",
    "# --- Implement real data ---\n",
    "df = pd.read_csv('csv_files/risk_free_rates_eur.csv', parse_dates=['TIME_PERIOD'])\n",
    "rates = df['RISK_FREE_RATE'].to_numpy(dtype=float)\n",
    "\n",
    "\n",
    "months = np.arange(T + 1)\n",
    "ttm_years = (T - months) / 12.0\n",
    "# convert to decimals\n",
    "zcb_prices = zcb_price_generator(10, 121, start = 0, data = pd.read_csv(\"csv_files/yield_curve_data.csv\"))\n",
    "\n",
    "# Sanity checks\n",
    "assert active_returns.shape == (T,)\n",
    "assert zcb_prices.shape == (T + 1,)\n",
    "\n",
    "# Run\n",
    "summary = simulate_tie_in_path(active_returns, zcb_prices, contributions)\n",
    "print(summary)\n"
   ]
  },
  {
   "cell_type": "code",
   "execution_count": 77,
   "id": "e296bca4",
   "metadata": {},
   "outputs": [
    {
     "ename": "KeyError",
     "evalue": "'accrual_abs'",
     "output_type": "error",
     "traceback": [
      "\u001b[31m---------------------------------------------------------------------------\u001b[39m",
      "\u001b[31mKeyError\u001b[39m                                  Traceback (most recent call last)",
      "\u001b[36mFile \u001b[39m\u001b[32m~/Desktop/AA_files/Asset_Allocation_Case2025/.venv/lib/python3.13/site-packages/pandas/core/indexes/base.py:3812\u001b[39m, in \u001b[36mIndex.get_loc\u001b[39m\u001b[34m(self, key)\u001b[39m\n\u001b[32m   3811\u001b[39m \u001b[38;5;28;01mtry\u001b[39;00m:\n\u001b[32m-> \u001b[39m\u001b[32m3812\u001b[39m     \u001b[38;5;28;01mreturn\u001b[39;00m \u001b[38;5;28;43mself\u001b[39;49m\u001b[43m.\u001b[49m\u001b[43m_engine\u001b[49m\u001b[43m.\u001b[49m\u001b[43mget_loc\u001b[49m\u001b[43m(\u001b[49m\u001b[43mcasted_key\u001b[49m\u001b[43m)\u001b[49m\n\u001b[32m   3813\u001b[39m \u001b[38;5;28;01mexcept\u001b[39;00m \u001b[38;5;167;01mKeyError\u001b[39;00m \u001b[38;5;28;01mas\u001b[39;00m err:\n",
      "\u001b[36mFile \u001b[39m\u001b[32mpandas/_libs/index.pyx:167\u001b[39m, in \u001b[36mpandas._libs.index.IndexEngine.get_loc\u001b[39m\u001b[34m()\u001b[39m\n",
      "\u001b[36mFile \u001b[39m\u001b[32mpandas/_libs/index.pyx:196\u001b[39m, in \u001b[36mpandas._libs.index.IndexEngine.get_loc\u001b[39m\u001b[34m()\u001b[39m\n",
      "\u001b[36mFile \u001b[39m\u001b[32mpandas/_libs/hashtable_class_helper.pxi:7088\u001b[39m, in \u001b[36mpandas._libs.hashtable.PyObjectHashTable.get_item\u001b[39m\u001b[34m()\u001b[39m\n",
      "\u001b[36mFile \u001b[39m\u001b[32mpandas/_libs/hashtable_class_helper.pxi:7096\u001b[39m, in \u001b[36mpandas._libs.hashtable.PyObjectHashTable.get_item\u001b[39m\u001b[34m()\u001b[39m\n",
      "\u001b[31mKeyError\u001b[39m: 'accrual_abs'",
      "\nThe above exception was the direct cause of the following exception:\n",
      "\u001b[31mKeyError\u001b[39m                                  Traceback (most recent call last)",
      "\u001b[36mCell\u001b[39m\u001b[36m \u001b[39m\u001b[32mIn[77]\u001b[39m\u001b[32m, line 3\u001b[39m\n\u001b[32m      1\u001b[39m \u001b[38;5;66;03m# Plot the empirical distribution of the accrual of guarantee (absolute)\u001b[39;00m\n\u001b[32m      2\u001b[39m plt.figure()\n\u001b[32m----> \u001b[39m\u001b[32m3\u001b[39m plt.hist(\u001b[43msummary\u001b[49m\u001b[43m[\u001b[49m\u001b[33;43m\"\u001b[39;49m\u001b[33;43maccrual_abs\u001b[39;49m\u001b[33;43m\"\u001b[39;49m\u001b[43m]\u001b[49m, bins=\u001b[32m20\u001b[39m)\n\u001b[32m      4\u001b[39m plt.title(\u001b[33m\"\u001b[39m\u001b[33mEmpirical distribution of guarantee accrual (absolute)\u001b[39m\u001b[38;5;130;01m\\n\u001b[39;00m\u001b[33mN_T - N_0 over rolling 10Y cohorts (synthetic)\u001b[39m\u001b[33m\"\u001b[39m)\n\u001b[32m      5\u001b[39m plt.xlabel(\u001b[33m\"\u001b[39m\u001b[33mAccrual of guarantee (face units)\u001b[39m\u001b[33m\"\u001b[39m)\n",
      "\u001b[36mFile \u001b[39m\u001b[32m~/Desktop/AA_files/Asset_Allocation_Case2025/.venv/lib/python3.13/site-packages/pandas/core/frame.py:4107\u001b[39m, in \u001b[36mDataFrame.__getitem__\u001b[39m\u001b[34m(self, key)\u001b[39m\n\u001b[32m   4105\u001b[39m \u001b[38;5;28;01mif\u001b[39;00m \u001b[38;5;28mself\u001b[39m.columns.nlevels > \u001b[32m1\u001b[39m:\n\u001b[32m   4106\u001b[39m     \u001b[38;5;28;01mreturn\u001b[39;00m \u001b[38;5;28mself\u001b[39m._getitem_multilevel(key)\n\u001b[32m-> \u001b[39m\u001b[32m4107\u001b[39m indexer = \u001b[38;5;28;43mself\u001b[39;49m\u001b[43m.\u001b[49m\u001b[43mcolumns\u001b[49m\u001b[43m.\u001b[49m\u001b[43mget_loc\u001b[49m\u001b[43m(\u001b[49m\u001b[43mkey\u001b[49m\u001b[43m)\u001b[49m\n\u001b[32m   4108\u001b[39m \u001b[38;5;28;01mif\u001b[39;00m is_integer(indexer):\n\u001b[32m   4109\u001b[39m     indexer = [indexer]\n",
      "\u001b[36mFile \u001b[39m\u001b[32m~/Desktop/AA_files/Asset_Allocation_Case2025/.venv/lib/python3.13/site-packages/pandas/core/indexes/base.py:3819\u001b[39m, in \u001b[36mIndex.get_loc\u001b[39m\u001b[34m(self, key)\u001b[39m\n\u001b[32m   3814\u001b[39m     \u001b[38;5;28;01mif\u001b[39;00m \u001b[38;5;28misinstance\u001b[39m(casted_key, \u001b[38;5;28mslice\u001b[39m) \u001b[38;5;129;01mor\u001b[39;00m (\n\u001b[32m   3815\u001b[39m         \u001b[38;5;28misinstance\u001b[39m(casted_key, abc.Iterable)\n\u001b[32m   3816\u001b[39m         \u001b[38;5;129;01mand\u001b[39;00m \u001b[38;5;28many\u001b[39m(\u001b[38;5;28misinstance\u001b[39m(x, \u001b[38;5;28mslice\u001b[39m) \u001b[38;5;28;01mfor\u001b[39;00m x \u001b[38;5;129;01min\u001b[39;00m casted_key)\n\u001b[32m   3817\u001b[39m     ):\n\u001b[32m   3818\u001b[39m         \u001b[38;5;28;01mraise\u001b[39;00m InvalidIndexError(key)\n\u001b[32m-> \u001b[39m\u001b[32m3819\u001b[39m     \u001b[38;5;28;01mraise\u001b[39;00m \u001b[38;5;167;01mKeyError\u001b[39;00m(key) \u001b[38;5;28;01mfrom\u001b[39;00m\u001b[38;5;250m \u001b[39m\u001b[34;01merr\u001b[39;00m\n\u001b[32m   3820\u001b[39m \u001b[38;5;28;01mexcept\u001b[39;00m \u001b[38;5;167;01mTypeError\u001b[39;00m:\n\u001b[32m   3821\u001b[39m     \u001b[38;5;66;03m# If we have a listlike key, _check_indexing_error will raise\u001b[39;00m\n\u001b[32m   3822\u001b[39m     \u001b[38;5;66;03m#  InvalidIndexError. Otherwise we fall through and re-raise\u001b[39;00m\n\u001b[32m   3823\u001b[39m     \u001b[38;5;66;03m#  the TypeError.\u001b[39;00m\n\u001b[32m   3824\u001b[39m     \u001b[38;5;28mself\u001b[39m._check_indexing_error(key)\n",
      "\u001b[31mKeyError\u001b[39m: 'accrual_abs'"
     ]
    },
    {
     "data": {
      "text/plain": [
       "<Figure size 640x480 with 0 Axes>"
      ]
     },
     "metadata": {},
     "output_type": "display_data"
    }
   ],
   "source": [
    "\n",
    "# Plot the empirical distribution of the accrual of guarantee (absolute)\n",
    "plt.figure()\n",
    "plt.hist(summary[\"accrual_abs\"], bins=20)\n",
    "plt.title(\"Empirical distribution of guarantee accrual (absolute)\\nN_T - N_0 over rolling 10Y cohorts (synthetic)\")\n",
    "plt.xlabel(\"Accrual of guarantee (face units)\")\n",
    "plt.ylabel(\"Frequency\")\n",
    "plt.show()\n"
   ]
  },
  {
   "cell_type": "code",
   "execution_count": null,
   "id": "02128883",
   "metadata": {},
   "outputs": [
    {
     "data": {
      "image/png": "[encoded data removed]",
      "text/plain": [
       "<Figure size 640x480 with 1 Axes>"
      ]
     },
     "metadata": {},
     "output_type": "display_data"
    }
   ],
   "source": [
    "\n",
    "# Plot the empirical distribution of the accrual of guarantee (percentage)\n",
    "plt.figure()\n",
    "plt.hist(summary[\"accrual_pct\"], bins=20)\n",
    "plt.title(\"Empirical distribution of guarantee accrual (percentage)\\n(N_T / N_0) - 1 over rolling 10Y cohorts (synthetic)\")\n",
    "plt.xlabel(\"Accrual of guarantee (%)\")\n",
    "plt.ylabel(\"Frequency\")\n",
    "plt.show()\n"
   ]
  },
  {
   "cell_type": "markdown",
   "id": "90e07b15",
   "metadata": {},
   "source": [
    "### How to use with your real data\n",
    "- Build `active_returns_matrix` with shape `(n_starts, 120)` from your chosen Active series.\n",
    "- Build `zcb_price_matrix` with shape `(n_starts, 121)` for rolling ZCB prices.\n",
    "- Then call:\n",
    "```python\n",
    "summary, panel = rolling_tie_in_distribution_matrix(active_returns_matrix, zcb_price_matrix)\n",
    "```\n",
    "`panel` is a stacked month-by-month matrix across all cohorts (with a `start` column).  \n",
    "`summary` is one row per cohort with accrual statistics.\n"
   ]
  }
 ],
 "metadata": {
  "kernelspec": {
   "display_name": ".venv",
   "language": "python",
   "name": "python3"
  },
  "language_info": {
   "codemirror_mode": {
    "name": "ipython",
    "version": 3
   },
   "file_extension": ".py",
   "mimetype": "text/x-python",
   "name": "python",
   "nbconvert_exporter": "python",
   "pygments_lexer": "ipython3",
   "version": "3.13.5"
  }
 },
 "nbformat": 4,
 "nbformat_minor": 5
}
