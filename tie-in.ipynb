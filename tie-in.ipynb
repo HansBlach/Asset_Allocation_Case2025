{
 "cells": [
  {
   "cell_type": "markdown",
   "id": "76127f62",
   "metadata": {},
   "source": [
    "\n",
    "# Baseline Empirical Distribution of Accrual of Guarantee\n",
    "\n",
    "\n",
    "- accepts a path (or matrix) of monthly **Active Asset returns** \\(A_t\\), and\n",
    "- accepts a corresponding path (or matrix) of **rolling zero-coupon bond prices** \\(P_t\\),\n",
    "and then performs the tie-in logic and computes the **empirical distribution of the accrual of guarantee**.\n",
    "\n",
    "You can run the synthetic demo below immediately, and later replace it with your real data.\n"
   ]
  },
  {
   "cell_type": "code",
   "execution_count": 12,
   "id": "2074d5a4",
   "metadata": {},
   "outputs": [],
   "source": [
    "\n",
    "import numpy as np\n",
    "import pandas as pd\n",
    "import matplotlib.pyplot as plt\n",
    "from dataclasses import dataclass\n",
    "from typing import List, Tuple\n",
    "\n",
    "# Notebook display prefs (optional)\n",
    "pd.set_option(\"display.float_format\", lambda x: f\"{x:,.6f}\")\n"
   ]
  },
  {
   "cell_type": "markdown",
   "id": "3d8a5da5",
   "metadata": {},
   "source": [
    "\n",
    "# We define parameters and calculate our outcome for single tie in path given active portfolio return and zcb prices"
   ]
  },
  {
   "cell_type": "code",
   "execution_count": 16,
   "id": "8bb98652",
   "metadata": {},
   "outputs": [],
   "source": [
    "\n",
    "@dataclass\n",
    "# Define parameters for the tie-in strategy\n",
    "class TieInConfig:\n",
    "    initial_wealth: float = 100.0\n",
    "    L_target: float = 1.25   \n",
    "    L_trigger: float = 1.30\n",
    "\n",
    "\n",
    "@dataclass\n",
    "# Zero coupon bond parameters\n",
    "class PathResult:\n",
    "    final_N: float\n",
    "    initial_N: float\n",
    "    # two different ways to measure accrual\n",
    "    accrual_abs: float\n",
    "    accrual_pct: float\n",
    "    history: pd.DataFrame\n",
    "\n",
    "\n",
    "# Simulate a single path of the tie-in strategy\n",
    "# Important to note cfg is not needed\n",
    "def simulate_tie_in_path(\n",
    "    active_returns: np.ndarray,     # has dimension (T) (monthly discrete returns of Active)\n",
    "    zcb_prices: np.ndarray,         # starts at 0 so has dimension (T+1) (rolling ZCB prices, including month 0 and maturity)\n",
    "    cfg: TieInConfig | None = None, # if we want to change parameters in TieInFonfig we can: simulate_tie_in_path(active, zcb, TieInConfig(L_target=1.20))\n",
    ") -> pd.DataFrame:\n",
    "    if cfg is None:\n",
    "        cfg = TieInConfig()\n",
    "    \n",
    "    T = len(active_returns)\n",
    "    assert len(zcb_prices) == T + 1, \"zcb_prices must have length T+1 (including month 0 and maturity).\"\n",
    "\n",
    "    W0 = cfg.initial_wealth\n",
    "    MV_R = W0 / cfg.L_target                  # start exactly at target funded ratio\n",
    "    MV_A = W0 - MV_R                          # Rest in active\n",
    "    N = MV_R / zcb_prices[0]                  # initial face (units of the ZCB)\n",
    "\n",
    "    rows = []\n",
    "    rows.append(dict(month=0, MV_A=MV_A, MV_R=MV_R, N=N, P=zcb_prices[0], W=MV_A+MV_R,\n",
    "                     L=(MV_A+MV_R)/MV_R, tie_in=False))\n",
    "    \n",
    "    # Do the calculations month by month\n",
    "    for i in range(1, T+1):\n",
    "        # 1) Active evolves\n",
    "        MV_A = MV_A * (1.0 + active_returns[i-1])\n",
    "        # 2) Reserve repriced from rolling ZCB\n",
    "        P_i = zcb_prices[i]\n",
    "        MV_R = N * P_i\n",
    "        # Total wealth\n",
    "        W = MV_A + MV_R\n",
    "        # 3) Compute funded ratio\n",
    "        L = W / MV_R if MV_R > 0 else float(\"inf\")\n",
    "\n",
    "        # We set tie in to false by default, but tie in if we are above our trigger\n",
    "        tie_in = False\n",
    "        if L > cfg.L_trigger:\n",
    "            # Reset to target: W = L_target * N_new * P_i\n",
    "            N_new = W / (cfg.L_target * P_i)       # new face (units of the ZCB)\n",
    "            # new reserve and active\n",
    "            MV_R = N_new * P_i\n",
    "            MV_A = W - MV_R\n",
    "            N = N_new\n",
    "            tie_in = True\n",
    "\n",
    "        rows.append(dict(month=i, MV_A=MV_A, MV_R=MV_R, N=N, P=P_i, W=MV_A+MV_R, L=(MV_A+MV_R)/MV_R, tie_in=tie_in))\n",
    "\n",
    "    history = pd.DataFrame(rows, columns=['month','MV_A','MV_R','N','P','W','L','tie_in'])\n",
    "    return history\n"
   ]
  },
  {
   "cell_type": "markdown",
   "id": "5593a9d9",
   "metadata": {},
   "source": [
    "\n",
    "## Rolling empirical distribution (many cohorts)\n",
    "Provide matrices with shapes:\n",
    "- `active_returns_matrix`: \\((n\\_starts, T)\\)\n",
    "- `zcb_price_matrix`: \\((n\\_starts, T+1)\\)\n"
   ]
  },
  {
   "cell_type": "code",
   "execution_count": 17,
   "id": "ec89e092",
   "metadata": {},
   "outputs": [],
   "source": [
    "\n",
    "def rolling_tie_in_distribution(\n",
    "    active_returns_matrix: np.ndarray,  # (n_starts, T)\n",
    "    zcb_price_matrix: np.ndarray,       # (n_starts, T+1)\n",
    "    cfg: TieInConfig | None = None\n",
    "): \n",
    "    if cfg is None:\n",
    "        cfg = TieInConfig()\n",
    "    \n",
    "    n_starts, T = active_returns_matrix.shape\n",
    "    assert zcb_price_matrix.shape == (n_starts, T+1), \"zcb_price_matrix must be (n_starts, T+1).\"\n",
    "\n",
    "    records = []\n",
    "    panel_frames = []\n",
    "\n",
    "    for s in range(n_starts):\n",
    "        hist = simulate_tie_in_path(active_returns_matrix[s], zcb_price_matrix[s], cfg)\n",
    "        hist_ins = hist.copy()\n",
    "        hist_ins.insert(0, 'start', s)\n",
    "        panel_frames.append(hist_ins)\n",
    "\n",
    "        initial_N = float(hist.loc[hist['month'].idxmin(), 'N'])\n",
    "        final_N   = float(hist.loc[hist['month'].idxmax(), 'N'])\n",
    "        records.append({\n",
    "            'start': s,\n",
    "            'initial_N': initial_N,\n",
    "            'final_N': final_N,\n",
    "            'accrual_abs': final_N - initial_N,\n",
    "            'accrual_pct': final_N / initial_N - 1.0\n",
    "        })\n",
    "    \n",
    "    summary = pd.DataFrame.from_records(records)\n",
    "    panel = pd.concat(panel_frames, ignore_index=True)\n",
    "    return summary, panel\n"
   ]
  },
  {
   "cell_type": "markdown",
   "id": "7fa11ba3",
   "metadata": {},
   "source": [
    "\n",
    "## Demo (synthetic data you can run immediately)\n",
    "This section just generates fake returns and a simple rolling ZCB price path so you can see outputs end-to-end.\n",
    "Replace this later with your real `A_t` and `P_t` matrices.\n"
   ]
  },
  {
   "cell_type": "code",
   "execution_count": 18,
   "id": "b8a9aecc",
   "metadata": {},
   "outputs": [
    {
     "data": {
      "text/html": [
       "<div>\n",
       "<style scoped>\n",
       "    .dataframe tbody tr th:only-of-type {\n",
       "        vertical-align: middle;\n",
       "    }\n",
       "\n",
       "    .dataframe tbody tr th {\n",
       "        vertical-align: top;\n",
       "    }\n",
       "\n",
       "    .dataframe thead th {\n",
       "        text-align: right;\n",
       "    }\n",
       "</style>\n",
       "<table border=\"1\" class=\"dataframe\">\n",
       "  <thead>\n",
       "    <tr style=\"text-align: right;\">\n",
       "      <th></th>\n",
       "      <th>start</th>\n",
       "      <th>initial_N</th>\n",
       "      <th>final_N</th>\n",
       "      <th>accrual_abs</th>\n",
       "      <th>accrual_pct</th>\n",
       "    </tr>\n",
       "  </thead>\n",
       "  <tbody>\n",
       "    <tr>\n",
       "      <th>0</th>\n",
       "      <td>0</td>\n",
       "      <td>97.720129</td>\n",
       "      <td>107.100532</td>\n",
       "      <td>9.380403</td>\n",
       "      <td>0.095993</td>\n",
       "    </tr>\n",
       "    <tr>\n",
       "      <th>1</th>\n",
       "      <td>1</td>\n",
       "      <td>97.706270</td>\n",
       "      <td>97.706270</td>\n",
       "      <td>0.000000</td>\n",
       "      <td>0.000000</td>\n",
       "    </tr>\n",
       "    <tr>\n",
       "      <th>2</th>\n",
       "      <td>2</td>\n",
       "      <td>97.701998</td>\n",
       "      <td>102.136375</td>\n",
       "      <td>4.434376</td>\n",
       "      <td>0.045387</td>\n",
       "    </tr>\n",
       "    <tr>\n",
       "      <th>3</th>\n",
       "      <td>3</td>\n",
       "      <td>97.707923</td>\n",
       "      <td>97.707923</td>\n",
       "      <td>0.000000</td>\n",
       "      <td>0.000000</td>\n",
       "    </tr>\n",
       "    <tr>\n",
       "      <th>4</th>\n",
       "      <td>4</td>\n",
       "      <td>97.827034</td>\n",
       "      <td>107.114818</td>\n",
       "      <td>9.287785</td>\n",
       "      <td>0.094941</td>\n",
       "    </tr>\n",
       "  </tbody>\n",
       "</table>\n",
       "</div>"
      ],
      "text/plain": [
       "   start  initial_N    final_N  accrual_abs  accrual_pct\n",
       "0      0  97.720129 107.100532     9.380403     0.095993\n",
       "1      1  97.706270  97.706270     0.000000     0.000000\n",
       "2      2  97.701998 102.136375     4.434376     0.045387\n",
       "3      3  97.707923  97.707923     0.000000     0.000000\n",
       "4      4  97.827034 107.114818     9.287785     0.094941"
      ]
     },
     "execution_count": 18,
     "metadata": {},
     "output_type": "execute_result"
    }
   ],
   "source": [
    "\n",
    "# --- Synthetic data for a 10-year horizon (120 monthly steps) ---\n",
    "np.random.seed(7)\n",
    "T = 120\n",
    "n_starts = 60\n",
    "\n",
    "# Active returns: ~0.6%/mo mean, 4%/mo vol (illustrative only)\n",
    "mu, sigma = 0.006, 0.04\n",
    "active_returns_matrix = np.random.normal(mu, sigma, size=(n_starts, T))\n",
    "\n",
    "# Rolling ZCB prices from a flat curve (illustrative): y = 2% (continuously compounded)\n",
    "months = np.arange(T+1)\n",
    "ttm_years = (T - months) / 12.0\n",
    "y = 0.02\n",
    "base_prices = np.exp(-ttm_years * y)\n",
    "zcb_price_matrix = np.vstack([base_prices * np.exp(0.0005*np.random.randn(T+1)) for _ in range(n_starts)])\n",
    "\n",
    "# Run\n",
    "summary, panel = rolling_tie_in_distribution(active_returns_matrix, zcb_price_matrix)\n",
    "summary.head()\n"
   ]
  },
  {
   "cell_type": "code",
   "execution_count": 19,
   "id": "e296bca4",
   "metadata": {},
   "outputs": [
    {
     "data": {
      "image/png": "[encoded data removed]",
      "text/plain": [
       "<Figure size 640x480 with 1 Axes>"
      ]
     },
     "metadata": {},
     "output_type": "display_data"
    }
   ],
   "source": [
    "\n",
    "# Plot the empirical distribution of the accrual of guarantee (absolute)\n",
    "plt.figure()\n",
    "plt.hist(summary[\"accrual_abs\"], bins=20)\n",
    "plt.title(\"Empirical distribution of guarantee accrual (absolute)\\nN_T - N_0 over rolling 10Y cohorts (synthetic)\")\n",
    "plt.xlabel(\"Accrual of guarantee (face units)\")\n",
    "plt.ylabel(\"Frequency\")\n",
    "plt.show()\n"
   ]
  },
  {
   "cell_type": "code",
   "execution_count": 20,
   "id": "02128883",
   "metadata": {},
   "outputs": [
    {
     "data": {
      "image/png": "[encoded data removed]",
      "text/plain": [
       "<Figure size 640x480 with 1 Axes>"
      ]
     },
     "metadata": {},
     "output_type": "display_data"
    }
   ],
   "source": [
    "\n",
    "# Plot the empirical distribution of the accrual of guarantee (percentage)\n",
    "plt.figure()\n",
    "plt.hist(summary[\"accrual_pct\"], bins=20)\n",
    "plt.title(\"Empirical distribution of guarantee accrual (percentage)\\n(N_T / N_0) - 1 over rolling 10Y cohorts (synthetic)\")\n",
    "plt.xlabel(\"Accrual of guarantee (%)\")\n",
    "plt.ylabel(\"Frequency\")\n",
    "plt.show()\n"
   ]
  },
  {
   "cell_type": "markdown",
   "id": "90e07b15",
   "metadata": {},
   "source": [
    "### How to use with your real data\n",
    "- Build `active_returns_matrix` with shape `(n_starts, 120)` from your chosen Active series.\n",
    "- Build `zcb_price_matrix` with shape `(n_starts, 121)` for rolling ZCB prices.\n",
    "- Then call:\n",
    "```python\n",
    "summary, panel = rolling_tie_in_distribution_matrix(active_returns_matrix, zcb_price_matrix)\n",
    "```\n",
    "`panel` is a stacked month-by-month matrix across all cohorts (with a `start` column).  \n",
    "`summary` is one row per cohort with accrual statistics.\n"
   ]
  }
 ],
 "metadata": {
  "kernelspec": {
   "display_name": ".venv",
   "language": "python",
   "name": "python3"
  },
  "language_info": {
   "codemirror_mode": {
    "name": "ipython",
    "version": 3
   },
   "file_extension": ".py",
   "mimetype": "text/x-python",
   "name": "python",
   "nbconvert_exporter": "python",
   "pygments_lexer": "ipython3",
   "version": "3.13.5"
  }
 },
 "nbformat": 4,
 "nbformat_minor": 5
}
